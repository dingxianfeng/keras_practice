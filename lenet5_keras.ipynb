{
 "cells": [
  {
   "cell_type": "code",
   "execution_count": 37,
   "metadata": {},
   "outputs": [
    {
     "name": "stdout",
     "output_type": "stream",
     "text": [
      "Train on 60000 samples, validate on 10000 samples\n",
      "Epoch 1/20\n",
      "60000/60000 [==============================] - 81s 1ms/step - loss: 0.9742 - acc: 0.7405 - val_loss: 0.3338 - val_acc: 0.9039\n",
      "Epoch 2/20\n",
      "60000/60000 [==============================] - 78s 1ms/step - loss: 0.2688 - acc: 0.9200 - val_loss: 0.2024 - val_acc: 0.9408\n",
      "Epoch 3/20\n",
      "60000/60000 [==============================] - 78s 1ms/step - loss: 0.1919 - acc: 0.9428 - val_loss: 0.1548 - val_acc: 0.9562\n",
      "Epoch 4/20\n",
      "60000/60000 [==============================] - 78s 1ms/step - loss: 0.1497 - acc: 0.9551 - val_loss: 0.1236 - val_acc: 0.9649\n",
      "Epoch 5/20\n",
      "60000/60000 [==============================] - 78s 1ms/step - loss: 0.1244 - acc: 0.9632 - val_loss: 0.1012 - val_acc: 0.9691\n",
      "Epoch 6/20\n",
      "60000/60000 [==============================] - 79s 1ms/step - loss: 0.1074 - acc: 0.9685 - val_loss: 0.0879 - val_acc: 0.9729\n",
      "Epoch 7/20\n",
      "60000/60000 [==============================] - 78s 1ms/step - loss: 0.0944 - acc: 0.9721 - val_loss: 0.0873 - val_acc: 0.9727\n",
      "Epoch 8/20\n",
      "60000/60000 [==============================] - 79s 1ms/step - loss: 0.0849 - acc: 0.9754 - val_loss: 0.0809 - val_acc: 0.9749\n",
      "Epoch 9/20\n",
      "60000/60000 [==============================] - 78s 1ms/step - loss: 0.0781 - acc: 0.9767 - val_loss: 0.0699 - val_acc: 0.9794\n",
      "Epoch 10/20\n",
      "60000/60000 [==============================] - 78s 1ms/step - loss: 0.0719 - acc: 0.9785 - val_loss: 0.0641 - val_acc: 0.9786\n",
      "Epoch 11/20\n",
      "60000/60000 [==============================] - 78s 1ms/step - loss: 0.0664 - acc: 0.9797 - val_loss: 0.0665 - val_acc: 0.9780\n",
      "Epoch 12/20\n",
      "60000/60000 [==============================] - 78s 1ms/step - loss: 0.0622 - acc: 0.9814 - val_loss: 0.0629 - val_acc: 0.9785\n",
      "Epoch 13/20\n",
      "60000/60000 [==============================] - 79s 1ms/step - loss: 0.0584 - acc: 0.9825 - val_loss: 0.0512 - val_acc: 0.9831\n",
      "Epoch 14/20\n",
      "60000/60000 [==============================] - 81s 1ms/step - loss: 0.0559 - acc: 0.9831 - val_loss: 0.0526 - val_acc: 0.9828\n",
      "Epoch 15/20\n",
      "60000/60000 [==============================] - 80s 1ms/step - loss: 0.0529 - acc: 0.9843 - val_loss: 0.0565 - val_acc: 0.9815\n",
      "Epoch 16/20\n",
      "60000/60000 [==============================] - 80s 1ms/step - loss: 0.0502 - acc: 0.9856 - val_loss: 0.0472 - val_acc: 0.9846\n",
      "Epoch 17/20\n",
      "60000/60000 [==============================] - 80s 1ms/step - loss: 0.0477 - acc: 0.9856 - val_loss: 0.0440 - val_acc: 0.9861\n",
      "Epoch 18/20\n",
      "60000/60000 [==============================] - 80s 1ms/step - loss: 0.0455 - acc: 0.9865 - val_loss: 0.0448 - val_acc: 0.9849\n",
      "Epoch 19/20\n",
      "60000/60000 [==============================] - 81s 1ms/step - loss: 0.0436 - acc: 0.9873 - val_loss: 0.0460 - val_acc: 0.9847\n",
      "Epoch 20/20\n",
      "60000/60000 [==============================] - 80s 1ms/step - loss: 0.0425 - acc: 0.9875 - val_loss: 0.0432 - val_acc: 0.9853\n",
      "10000/10000 [==============================] - 5s 515us/step\n",
      "Test loss:  0.043232984898239374\n",
      "Test accuracy:  0.9853\n"
     ]
    }
   ],
   "source": [
    "import keras\n",
    "from keras.datasets import mnist\n",
    "from keras.models import Sequential\n",
    "from keras.layers.core import Dense,Flatten,Activation\n",
    "from keras.layers.convolutional import Conv2D\n",
    "from keras.layers.pooling import MaxPooling2D\n",
    "from keras import backend as K\n",
    "import tensorflow as tf\n",
    "\n",
    "num_classes=10\n",
    "img_rows,img_cols=28,28\n",
    "\n",
    "(trainX,trainY),(testX,testY)=mnist.load_data(path=\"mnist.npz\")\n",
    "\n",
    "if K.image_data_format() == 'channels_first':\n",
    "    trainX=trainX.reshape(trainX.shape[0],1,img_rows,img_cols)\n",
    "    testX=testX.reshape(testX.shape[0],1,img_rows,img_cols)\n",
    "    input_shape=(1,img_rows,img_cols)\n",
    "else:\n",
    "    trainX=trainX.reshape(trainX.shape[0],img_rows,img_cols,1)\n",
    "    testX=testX.reshape(testX.shape[0],img_rows,img_cols,1)\n",
    "    input_shape=(img_rows,img_cols,1)\n",
    "    \n",
    "trainX=trainX.astype('float32')\n",
    "testX=testX.astype('float32')\n",
    "trainX /= 255.0\n",
    "testX /= 255.0\n",
    "\n",
    "\n",
    "trainY=keras.utils.to_categorical(trainY,num_classes)\n",
    "testY=keras.utils.to_categorical(testY,num_classes)\n",
    "\n",
    "model=Sequential()\n",
    "model.add(Conv2D(32,kernel_size=(5,5),activation='relu',input_shape=input_shape))\n",
    "model.add(MaxPooling2D(pool_size=(2,2)))\n",
    "model.add(Conv2D(64,kernel_size=(5,5),activation='relu'))\n",
    "model.add(MaxPooling2D(pool_size=(2,2)))\n",
    "model.add(Flatten())\n",
    "model.add(Dense(500,activation='relu'))\n",
    "model.add(Dense(num_classes))\n",
    "model.add(Activation(tf.nn.softmax))\n",
    "\n",
    "          \n",
    "\n",
    "model.compile(loss=keras.losses.categorical_crossentropy,optimizer=keras.optimizers.SGD(),metrics=['accuracy'])\n",
    "\n",
    "model.fit(trainX,trainY,batch_size=128,epochs=20,verbose=1,validation_data=(testX,testY))\n",
    "\n",
    "score=model.evaluate(testX,testY)\n",
    "print('Test loss: ',score[0])\n",
    "print('Test accuracy: ',score[1])\n",
    "\n",
    "\n",
    "\n"
   ]
  },
  {
   "cell_type": "code",
   "execution_count": 38,
   "metadata": {
    "collapsed": true
   },
   "outputs": [],
   "source": [
    "model.save('lenet.h5')"
   ]
  },
  {
   "cell_type": "code",
   "execution_count": null,
   "metadata": {
    "collapsed": true
   },
   "outputs": [],
   "source": []
  }
 ],
 "metadata": {
  "kernelspec": {
   "display_name": "Python 3",
   "language": "python",
   "name": "python3"
  },
  "language_info": {
   "codemirror_mode": {
    "name": "ipython",
    "version": 3
   },
   "file_extension": ".py",
   "mimetype": "text/x-python",
   "name": "python",
   "nbconvert_exporter": "python",
   "pygments_lexer": "ipython3",
   "version": "3.5.4"
  }
 },
 "nbformat": 4,
 "nbformat_minor": 2
}
