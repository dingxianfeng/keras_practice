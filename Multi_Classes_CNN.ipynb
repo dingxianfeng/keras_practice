{
 "cells": [
  {
   "cell_type": "code",
   "execution_count": 18,
   "metadata": {},
   "outputs": [
    {
     "name": "stdout",
     "output_type": "stream",
     "text": [
      "Epoch 1/10\n",
      "100/100 [==============================] - 6s 61ms/step - loss: 2.2547\n",
      "Epoch 2/10\n",
      "100/100 [==============================] - 6s 55ms/step - loss: 2.3175\n",
      "Epoch 3/10\n",
      "100/100 [==============================] - 5s 53ms/step - loss: 2.2127\n",
      "Epoch 4/10\n",
      "100/100 [==============================] - 5s 53ms/step - loss: 2.1791\n",
      "Epoch 5/10\n",
      "100/100 [==============================] - 5s 52ms/step - loss: 2.2394\n",
      "Epoch 6/10\n",
      "100/100 [==============================] - 6s 57ms/step - loss: 2.2074\n",
      "Epoch 7/10\n",
      "100/100 [==============================] - 5s 55ms/step - loss: 2.1729\n",
      "Epoch 8/10\n",
      "100/100 [==============================] - 5s 55ms/step - loss: 2.1873\n",
      "Epoch 9/10\n",
      "100/100 [==============================] - 6s 56ms/step - loss: 2.2120\n",
      "Epoch 10/10\n",
      "100/100 [==============================] - 5s 52ms/step - loss: 2.2057\n",
      "20/20 [==============================] - 0s 21ms/step\n"
     ]
    }
   ],
   "source": [
    "import numpy as np\n",
    "import tensorflow as tf\n",
    "import keras\n",
    "from keras.models import Sequential\n",
    "from keras.layers.convolutional import Conv2D\n",
    "from keras.layers.pooling import MaxPooling2D\n",
    "from keras.layers.core import Dense,Activation,Flatten,Dropout\n",
    "from keras.optimizers import SGD\n",
    "from keras.utils import np_utils\n",
    "\n",
    "x_train = np.random.random((100,100,100,3))\n",
    "y_train = keras.utils.to_categorical(np.random.randint(10,size=(100,1)),num_classes=10)\n",
    "\n",
    "x_test = np.random.random((20,100,100,3))\n",
    "y_test = keras.utils.to_categorical(np.random.randint(10,size=(20,1)),num_classes=10)\n",
    "\n",
    "model = Sequential()\n",
    "model.add(Conv2D(32,(3,3),activation='relu',input_shape=(100,100,3)))\n",
    "model.add(Conv2D(32,(3,3),activation='relu'))\n",
    "model.add(MaxPooling2D(pool_size=(2,2)))\n",
    "model.add(Dropout(0.25))\n",
    "\n",
    "model.add(Conv2D(64,(3,3),activation='relu'))\n",
    "model.add(Conv2D(64,(3,3),activation='relu'))\n",
    "model.add(MaxPooling2D(pool_size=(2,2)))\n",
    "model.add(Dropout(0.25))\n",
    "\n",
    "model.add(Flatten())\n",
    "model.add(Dense(256,activation='relu'))\n",
    "model.add(Dropout(0.5))\n",
    "model.add(Dense(10))\n",
    "model.add(Activation(tf.nn.softmax))\n",
    "\n",
    "sgd=SGD(lr=0.01,decay=1e-6,momentum=0.9,nesterov=True)\n",
    "model.compile(loss='categorical_crossentropy',optimizer=sgd)\n",
    "\n",
    "model.fit(x_train,y_train,batch_size=32,epochs=10)\n",
    "score = model.evaluate(x_test,y_test,batch_size=32)"
   ]
  },
  {
   "cell_type": "code",
   "execution_count": null,
   "metadata": {
    "collapsed": true
   },
   "outputs": [],
   "source": []
  },
  {
   "cell_type": "code",
   "execution_count": null,
   "metadata": {
    "collapsed": true
   },
   "outputs": [],
   "source": []
  }
 ],
 "metadata": {
  "kernelspec": {
   "display_name": "Python 3",
   "language": "python",
   "name": "python3"
  },
  "language_info": {
   "codemirror_mode": {
    "name": "ipython",
    "version": 3
   },
   "file_extension": ".py",
   "mimetype": "text/x-python",
   "name": "python",
   "nbconvert_exporter": "python",
   "pygments_lexer": "ipython3",
   "version": "3.5.4"
  }
 },
 "nbformat": 4,
 "nbformat_minor": 2
}
